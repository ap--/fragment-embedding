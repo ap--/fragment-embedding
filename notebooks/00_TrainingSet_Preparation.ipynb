{
 "cells": [
  {
   "cell_type": "code",
   "execution_count": 3,
   "id": "fa238665-d732-4319-a7a1-f1bf2e01081e",
   "metadata": {},
   "outputs": [],
   "source": [
    "import pandas as pd\n",
    "import csv\n",
    "import os\n",
    "\n",
    "df = pd.read_csv(\"../data/fid2can_fff_all.tsv\", delimiter=\"\\t\")\n",
    "smiles_0 = list(set(df[\"smiles\"]))\n",
    "df = pd.read_csv(\"../data/enamine_stock.csv\", delimiter=\",\")\n",
    "smiles_1 = list(set(df[\"smiles\"]))\n",
    "df = pd.read_csv(\"../data/enamine_real.csv\", delimiter=\",\")\n",
    "smiles_2 = list(set(df[\"smiles\"]))\n",
    "\n",
    "smiles = smiles_0 + smiles_1 + smiles_2\n",
    "\n",
    "with open(\"../data/fff_library.tsv\", \"w\") as f:\n",
    "    writer = csv.writer(f)\n",
    "    for smi in smiles:\n",
    "        writer.writerow([smi])"
   ]
  },
  {
   "cell_type": "code",
   "execution_count": 6,
   "id": "81f892b5-43f0-4189-beb6-30b0ed9de7e9",
   "metadata": {},
   "outputs": [],
   "source": [
    "def split(filehandler, delimiter=',', row_limit=10000,\n",
    "          output_name_template='../data/fff_library_split_%s.tsv', output_path='.', keep_headers=False):\n",
    "    reader = csv.reader(filehandler, delimiter=delimiter)\n",
    "    current_piece = 1\n",
    "    current_out_path = os.path.join(\n",
    "        output_path,\n",
    "        output_name_template % current_piece\n",
    "    )\n",
    "    current_out_writer = csv.writer(open(current_out_path, 'w'), delimiter=delimiter)\n",
    "    current_limit = row_limit\n",
    "    if keep_headers:\n",
    "        headers = next(reader.next)\n",
    "        current_out_writer.writerow(headers)\n",
    "    for i, row in enumerate(reader):\n",
    "        if i + 1 > current_limit:\n",
    "            current_piece += 1\n",
    "            current_limit = row_limit * current_piece\n",
    "            current_out_path = os.path.join(\n",
    "                output_path,\n",
    "                output_name_template % current_piece\n",
    "            )\n",
    "            current_out_writer = csv.writer(open(current_out_path, 'w'), delimiter=delimiter)\n",
    "            if keep_headers:\n",
    "                current_out_writer.writerow(headers)\n",
    "        current_out_writer.writerow(row)\n",
    "\n",
    "split(open(\"../data/fff_library.tsv\", \"r\"))"
   ]
  },
  {
   "cell_type": "code",
   "execution_count": null,
   "id": "4ac37cf6-387e-4a4a-b6ca-ec165c028c08",
   "metadata": {},
   "outputs": [],
   "source": []
  }
 ],
 "metadata": {
  "kernelspec": {
   "display_name": "Python 3 (ipykernel)",
   "language": "python",
   "name": "python3"
  },
  "language_info": {
   "codemirror_mode": {
    "name": "ipython",
    "version": 3
   },
   "file_extension": ".py",
   "mimetype": "text/x-python",
   "name": "python",
   "nbconvert_exporter": "python",
   "pygments_lexer": "ipython3",
   "version": "3.10.9"
  }
 },
 "nbformat": 4,
 "nbformat_minor": 5
}
